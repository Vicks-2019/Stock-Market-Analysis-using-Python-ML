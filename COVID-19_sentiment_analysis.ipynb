{
  "nbformat": 4,
  "nbformat_minor": 0,
  "metadata": {
    "colab": {
      "name": "Untitled22.ipynb",
      "provenance": [],
      "authorship_tag": "ABX9TyMOGnfRa3gZYzrGkimLgnLK",
      "include_colab_link": true
    },
    "kernelspec": {
      "name": "python3",
      "display_name": "Python 3"
    }
  },
  "cells": [
    {
      "cell_type": "markdown",
      "metadata": {
        "id": "view-in-github",
        "colab_type": "text"
      },
      "source": [
        "<a href=\"https://colab.research.google.com/github/Vicks-2019/Stock-Market-Analysis-using-Python-ML/blob/master/COVID-19_sentiment_analysis.ipynb\" target=\"_parent\"><img src=\"https://colab.research.google.com/assets/colab-badge.svg\" alt=\"Open In Colab\"/></a>"
      ]
    },
    {
      "cell_type": "code",
      "metadata": {
        "id": "JEljwRpwmBrP",
        "colab_type": "code",
        "colab": {}
      },
      "source": [
        "#This is a sentiment analysis of covid - 19 outbreak using Python \n",
        "import tweepy\n",
        "from textblob import TextBlob\n",
        "from wordcloud import WordCloud\n",
        "import pandas as pd\n",
        "import numpy as np\n",
        "import re\n",
        "import matplotlib.pyplot as plt\n",
        "plt.style.use('fivethirtyeight')"
      ],
      "execution_count": 1,
      "outputs": []
    },
    {
      "cell_type": "code",
      "metadata": {
        "id": "N3ip2iy_mkWd",
        "colab_type": "code",
        "colab": {}
      },
      "source": [
        "consumerKey=\"\"\n",
        "consumerSecret=\"\"\n",
        "accessToken=\"\"\n",
        "accessTokenSecret=\"\"\n"
      ],
      "execution_count": 9,
      "outputs": []
    },
    {
      "cell_type": "code",
      "metadata": {
        "id": "w9yyauisnTzB",
        "colab_type": "code",
        "colab": {}
      },
      "source": [
        "# Create the authentication object\n",
        "authenticate = tweepy.OAuthHandler(consumerKey, consumerSecret) \n",
        "\n",
        "# Set the access token and access token secret\n",
        "authenticate.set_access_token(accessToken, accessTokenSecret)\n",
        "\n",
        "# Creating the API object while passing in auth information\n",
        "api = tweepy.API(authenticate, wait_on_rate_limit = True)"
      ],
      "execution_count": 10,
      "outputs": []
    },
    {
      "cell_type": "code",
      "metadata": {
        "id": "vq0sxc_XniE1",
        "colab_type": "code",
        "colab": {
          "base_uri": "https://localhost:8080/",
          "height": 241
        },
        "outputId": "e0b82a0b-634f-4ac3-df3e-be669467e870"
      },
      "source": [
        "# Extract 500 tweets from the twitter user\n",
        "posts = api.user_timeline(screen_name=\"COVID19Tracking\",count = 100, lang =\"en\", tweet_mode=\"extended\")\n",
        "\n",
        "#  Print the last 5 tweets\n",
        "print(\"Show the 5 recent tweets:\\n\")\n",
        "i=1\n",
        "for tweet in posts[:5]:\n",
        "    print(str(i) +') '+ tweet.full_text + '\\n')\n",
        "    i= i+1"
      ],
      "execution_count": 15,
      "outputs": [
        {
          "output_type": "stream",
          "text": [
            "Show the 5 recent tweets:\n",
            "\n",
            "1) One major caveat today: Texas reported a backlog of 5k cases, which are included in today's numbers. Even for a Monday, which is subject to weekend lag, this is a very, very small number of cases.\n",
            "\n",
            "2) Our daily update is published. States reported 647k tests, 38k cases, and 406 deaths. The number of cases reported is the lowest since June 23. https://t.co/omv9ZtWDoR\n",
            "\n",
            "3) The South’s seven-day average for new cases per million people dropped to 205 from a July 22 peak of 315. In the West, the seven-day average is back up to 179 new cases per million people after a dip earlier this month related in part to CA’s reporting system problems. https://t.co/EHWvYw70s1\n",
            "\n",
            "4) The number of people states report to be hospitalized with COVID-19 continues to drop. 57% of COVID-19 hospitalizations are currently in the South, while the Northeast has fallen to 5%. https://t.co/Qe3yI7uZi7\n",
            "\n",
            "5) For those following the saga of Texas testing, we’re seeing a lot more tests reported there. The state still hasn’t provided much detail about what happened over the last two weeks, and we look forward to learning more soon. https://t.co/zVWnxEfBbR\n",
            "\n"
          ],
          "name": "stdout"
        }
      ]
    },
    {
      "cell_type": "code",
      "metadata": {
        "id": "l7Pw3QcLoTVW",
        "colab_type": "code",
        "colab": {
          "base_uri": "https://localhost:8080/",
          "height": 204
        },
        "outputId": "022bcfc7-228d-4eac-9252-0077c3a2b5ee"
      },
      "source": [
        "# Create a dataframe with a column called Tweets\n",
        "df = pd.DataFrame([tweet.full_text for tweet in posts], columns=['Tweets'])\n",
        "# Show the first 5 rows of data\n",
        "df.head()"
      ],
      "execution_count": 16,
      "outputs": [
        {
          "output_type": "execute_result",
          "data": {
            "text/html": [
              "<div>\n",
              "<style scoped>\n",
              "    .dataframe tbody tr th:only-of-type {\n",
              "        vertical-align: middle;\n",
              "    }\n",
              "\n",
              "    .dataframe tbody tr th {\n",
              "        vertical-align: top;\n",
              "    }\n",
              "\n",
              "    .dataframe thead th {\n",
              "        text-align: right;\n",
              "    }\n",
              "</style>\n",
              "<table border=\"1\" class=\"dataframe\">\n",
              "  <thead>\n",
              "    <tr style=\"text-align: right;\">\n",
              "      <th></th>\n",
              "      <th>Tweets</th>\n",
              "    </tr>\n",
              "  </thead>\n",
              "  <tbody>\n",
              "    <tr>\n",
              "      <th>0</th>\n",
              "      <td>One major caveat today: Texas reported a backl...</td>\n",
              "    </tr>\n",
              "    <tr>\n",
              "      <th>1</th>\n",
              "      <td>Our daily update is published. States reported...</td>\n",
              "    </tr>\n",
              "    <tr>\n",
              "      <th>2</th>\n",
              "      <td>The South’s seven-day average for new cases pe...</td>\n",
              "    </tr>\n",
              "    <tr>\n",
              "      <th>3</th>\n",
              "      <td>The number of people states report to be hospi...</td>\n",
              "    </tr>\n",
              "    <tr>\n",
              "      <th>4</th>\n",
              "      <td>For those following the saga of Texas testing,...</td>\n",
              "    </tr>\n",
              "  </tbody>\n",
              "</table>\n",
              "</div>"
            ],
            "text/plain": [
              "                                              Tweets\n",
              "0  One major caveat today: Texas reported a backl...\n",
              "1  Our daily update is published. States reported...\n",
              "2  The South’s seven-day average for new cases pe...\n",
              "3  The number of people states report to be hospi...\n",
              "4  For those following the saga of Texas testing,..."
            ]
          },
          "metadata": {
            "tags": []
          },
          "execution_count": 16
        }
      ]
    },
    {
      "cell_type": "code",
      "metadata": {
        "id": "mjjjnH0tr_qF",
        "colab_type": "code",
        "colab": {
          "base_uri": "https://localhost:8080/",
          "height": 419
        },
        "outputId": "145a36ef-aff1-40a6-d77b-8c0df7997a16"
      },
      "source": [
        "# Create a function to clean the tweets\n",
        "def cleanTxt(text):\n",
        " text = re.sub('@[A-Za-z0–9]+', '', text) #Removing @mentions\n",
        " text = re.sub('#', '', text) # Removing '#' hash tag\n",
        " text = re.sub('RT[\\s]+', '', text) # Removing RT\n",
        " text = re.sub('https?:\\/\\/\\S+', '', text) # Removing hyperlink\n",
        " \n",
        " return text\n",
        "\n",
        "\n",
        "# Clean the tweets\n",
        "df['Tweets'] = df['Tweets'].apply(cleanTxt)\n",
        "\n",
        "# Show the cleaned tweets\n",
        "df"
      ],
      "execution_count": 17,
      "outputs": [
        {
          "output_type": "execute_result",
          "data": {
            "text/html": [
              "<div>\n",
              "<style scoped>\n",
              "    .dataframe tbody tr th:only-of-type {\n",
              "        vertical-align: middle;\n",
              "    }\n",
              "\n",
              "    .dataframe tbody tr th {\n",
              "        vertical-align: top;\n",
              "    }\n",
              "\n",
              "    .dataframe thead th {\n",
              "        text-align: right;\n",
              "    }\n",
              "</style>\n",
              "<table border=\"1\" class=\"dataframe\">\n",
              "  <thead>\n",
              "    <tr style=\"text-align: right;\">\n",
              "      <th></th>\n",
              "      <th>Tweets</th>\n",
              "    </tr>\n",
              "  </thead>\n",
              "  <tbody>\n",
              "    <tr>\n",
              "      <th>0</th>\n",
              "      <td>One major caveat today: Texas reported a backl...</td>\n",
              "    </tr>\n",
              "    <tr>\n",
              "      <th>1</th>\n",
              "      <td>Our daily update is published. States reported...</td>\n",
              "    </tr>\n",
              "    <tr>\n",
              "      <th>2</th>\n",
              "      <td>The South’s seven-day average for new cases pe...</td>\n",
              "    </tr>\n",
              "    <tr>\n",
              "      <th>3</th>\n",
              "      <td>The number of people states report to be hospi...</td>\n",
              "    </tr>\n",
              "    <tr>\n",
              "      <th>4</th>\n",
              "      <td>For those following the saga of Texas testing,...</td>\n",
              "    </tr>\n",
              "    <tr>\n",
              "      <th>...</th>\n",
              "      <td>...</td>\n",
              "    </tr>\n",
              "    <tr>\n",
              "      <th>95</th>\n",
              "      <td>We get into the broader dynamics of falling ca...</td>\n",
              "    </tr>\n",
              "    <tr>\n",
              "      <th>96</th>\n",
              "      <td>But there is good news to report as well. The ...</td>\n",
              "    </tr>\n",
              "    <tr>\n",
              "      <th>97</th>\n",
              "      <td>California is now 3 in the United States for t...</td>\n",
              "    </tr>\n",
              "    <tr>\n",
              "      <th>98</th>\n",
              "      <td>Texas recently changed the way it counts COVID...</td>\n",
              "    </tr>\n",
              "    <tr>\n",
              "      <th>99</th>\n",
              "      <td>Our number of newly reported COVID-19 deaths i...</td>\n",
              "    </tr>\n",
              "  </tbody>\n",
              "</table>\n",
              "<p>100 rows × 1 columns</p>\n",
              "</div>"
            ],
            "text/plain": [
              "                                               Tweets\n",
              "0   One major caveat today: Texas reported a backl...\n",
              "1   Our daily update is published. States reported...\n",
              "2   The South’s seven-day average for new cases pe...\n",
              "3   The number of people states report to be hospi...\n",
              "4   For those following the saga of Texas testing,...\n",
              "..                                                ...\n",
              "95  We get into the broader dynamics of falling ca...\n",
              "96  But there is good news to report as well. The ...\n",
              "97  California is now 3 in the United States for t...\n",
              "98  Texas recently changed the way it counts COVID...\n",
              "99  Our number of newly reported COVID-19 deaths i...\n",
              "\n",
              "[100 rows x 1 columns]"
            ]
          },
          "metadata": {
            "tags": []
          },
          "execution_count": 17
        }
      ]
    },
    {
      "cell_type": "code",
      "metadata": {
        "id": "uslqNe0BsG6_",
        "colab_type": "code",
        "colab": {
          "base_uri": "https://localhost:8080/",
          "height": 419
        },
        "outputId": "187e69b3-b117-47c1-a613-a3b9e6261960"
      },
      "source": [
        "# Create a function to get the subjectivity\n",
        "def getSubjectivity(text):\n",
        "   return TextBlob(text).sentiment.subjectivity\n",
        "\n",
        "# Create a function to get the polarity\n",
        "def getPolarity(text):\n",
        "   return  TextBlob(text).sentiment.polarity\n",
        "\n",
        "\n",
        "# Create two new columns 'Subjectivity' & 'Polarity'\n",
        "df['Subjectivity'] = df['Tweets'].apply(getSubjectivity)\n",
        "df['Polarity'] = df['Tweets'].apply(getPolarity)\n",
        "\n",
        "# Show the new dataframe with columns 'Subjectivity' & 'Polarity'\n",
        "df"
      ],
      "execution_count": 18,
      "outputs": [
        {
          "output_type": "execute_result",
          "data": {
            "text/html": [
              "<div>\n",
              "<style scoped>\n",
              "    .dataframe tbody tr th:only-of-type {\n",
              "        vertical-align: middle;\n",
              "    }\n",
              "\n",
              "    .dataframe tbody tr th {\n",
              "        vertical-align: top;\n",
              "    }\n",
              "\n",
              "    .dataframe thead th {\n",
              "        text-align: right;\n",
              "    }\n",
              "</style>\n",
              "<table border=\"1\" class=\"dataframe\">\n",
              "  <thead>\n",
              "    <tr style=\"text-align: right;\">\n",
              "      <th></th>\n",
              "      <th>Tweets</th>\n",
              "      <th>Subjectivity</th>\n",
              "      <th>Polarity</th>\n",
              "    </tr>\n",
              "  </thead>\n",
              "  <tbody>\n",
              "    <tr>\n",
              "      <th>0</th>\n",
              "      <td>One major caveat today: Texas reported a backl...</td>\n",
              "      <td>0.451111</td>\n",
              "      <td>-0.143056</td>\n",
              "    </tr>\n",
              "    <tr>\n",
              "      <th>1</th>\n",
              "      <td>Our daily update is published. States reported...</td>\n",
              "      <td>0.000000</td>\n",
              "      <td>0.000000</td>\n",
              "    </tr>\n",
              "    <tr>\n",
              "      <th>2</th>\n",
              "      <td>The South’s seven-day average for new cases pe...</td>\n",
              "      <td>0.372727</td>\n",
              "      <td>-0.003896</td>\n",
              "    </tr>\n",
              "    <tr>\n",
              "      <th>3</th>\n",
              "      <td>The number of people states report to be hospi...</td>\n",
              "      <td>0.400000</td>\n",
              "      <td>0.000000</td>\n",
              "    </tr>\n",
              "    <tr>\n",
              "      <th>4</th>\n",
              "      <td>For those following the saga of Texas testing,...</td>\n",
              "      <td>0.273333</td>\n",
              "      <td>0.240000</td>\n",
              "    </tr>\n",
              "    <tr>\n",
              "      <th>...</th>\n",
              "      <td>...</td>\n",
              "      <td>...</td>\n",
              "      <td>...</td>\n",
              "    </tr>\n",
              "    <tr>\n",
              "      <th>95</th>\n",
              "      <td>We get into the broader dynamics of falling ca...</td>\n",
              "      <td>0.500000</td>\n",
              "      <td>0.000000</td>\n",
              "    </tr>\n",
              "    <tr>\n",
              "      <th>96</th>\n",
              "      <td>But there is good news to report as well. The ...</td>\n",
              "      <td>0.500000</td>\n",
              "      <td>0.204167</td>\n",
              "    </tr>\n",
              "    <tr>\n",
              "      <th>97</th>\n",
              "      <td>California is now 3 in the United States for t...</td>\n",
              "      <td>0.471818</td>\n",
              "      <td>-0.025455</td>\n",
              "    </tr>\n",
              "    <tr>\n",
              "      <th>98</th>\n",
              "      <td>Texas recently changed the way it counts COVID...</td>\n",
              "      <td>0.125000</td>\n",
              "      <td>0.000000</td>\n",
              "    </tr>\n",
              "    <tr>\n",
              "      <th>99</th>\n",
              "      <td>Our number of newly reported COVID-19 deaths i...</td>\n",
              "      <td>0.414773</td>\n",
              "      <td>0.005682</td>\n",
              "    </tr>\n",
              "  </tbody>\n",
              "</table>\n",
              "<p>100 rows × 3 columns</p>\n",
              "</div>"
            ],
            "text/plain": [
              "                                               Tweets  Subjectivity  Polarity\n",
              "0   One major caveat today: Texas reported a backl...      0.451111 -0.143056\n",
              "1   Our daily update is published. States reported...      0.000000  0.000000\n",
              "2   The South’s seven-day average for new cases pe...      0.372727 -0.003896\n",
              "3   The number of people states report to be hospi...      0.400000  0.000000\n",
              "4   For those following the saga of Texas testing,...      0.273333  0.240000\n",
              "..                                                ...           ...       ...\n",
              "95  We get into the broader dynamics of falling ca...      0.500000  0.000000\n",
              "96  But there is good news to report as well. The ...      0.500000  0.204167\n",
              "97  California is now 3 in the United States for t...      0.471818 -0.025455\n",
              "98  Texas recently changed the way it counts COVID...      0.125000  0.000000\n",
              "99  Our number of newly reported COVID-19 deaths i...      0.414773  0.005682\n",
              "\n",
              "[100 rows x 3 columns]"
            ]
          },
          "metadata": {
            "tags": []
          },
          "execution_count": 18
        }
      ]
    },
    {
      "cell_type": "code",
      "metadata": {
        "id": "gsfT57EEsRDR",
        "colab_type": "code",
        "colab": {
          "base_uri": "https://localhost:8080/",
          "height": 248
        },
        "outputId": "047214d8-b876-4b50-ede9-b835609377cf"
      },
      "source": [
        "# word cloud visualization\n",
        "allWords = ' '.join([twts for twts in df['Tweets']])\n",
        "wordCloud = WordCloud(width=500, height=300, random_state=21, max_font_size=110).generate(allWords)\n",
        "\n",
        "\n",
        "plt.imshow(wordCloud, interpolation=\"bilinear\")\n",
        "plt.axis('off')\n",
        "plt.show()"
      ],
      "execution_count": 19,
      "outputs": [
        {
          "output_type": "display_data",
          "data": {
            "image/png": "[encoded data removed]",
            "text/plain": [
              "<Figure size 432x288 with 1 Axes>"
            ]
          },
          "metadata": {
            "tags": [],
            "needs_background": "light"
          }
        }
      ]
    },
    {
      "cell_type": "code",
      "metadata": {
        "id": "rsH99NDisdzM",
        "colab_type": "code",
        "colab": {
          "base_uri": "https://localhost:8080/",
          "height": 419
        },
        "outputId": "9829c93d-8284-4a59-968a-7244366d00e2"
      },
      "source": [
        "# Create a function to compute negative (-1), neutral (0) and positive (+1) analysis\n",
        "def getAnalysis(score):\n",
        "  if score < 0:\n",
        "    return 'Negative'\n",
        "  elif score == 0:\n",
        "   return 'Neutral'\n",
        "  else:\n",
        "   return 'Positive'\n",
        "df['Analysis'] = df['Polarity'].apply(getAnalysis)\n",
        "# Show the dataframe\n",
        "df"
      ],
      "execution_count": 23,
      "outputs": [
        {
          "output_type": "execute_result",
          "data": {
            "text/html": [
              "<div>\n",
              "<style scoped>\n",
              "    .dataframe tbody tr th:only-of-type {\n",
              "        vertical-align: middle;\n",
              "    }\n",
              "\n",
              "    .dataframe tbody tr th {\n",
              "        vertical-align: top;\n",
              "    }\n",
              "\n",
              "    .dataframe thead th {\n",
              "        text-align: right;\n",
              "    }\n",
              "</style>\n",
              "<table border=\"1\" class=\"dataframe\">\n",
              "  <thead>\n",
              "    <tr style=\"text-align: right;\">\n",
              "      <th></th>\n",
              "      <th>Tweets</th>\n",
              "      <th>Subjectivity</th>\n",
              "      <th>Polarity</th>\n",
              "      <th>Analysis</th>\n",
              "    </tr>\n",
              "  </thead>\n",
              "  <tbody>\n",
              "    <tr>\n",
              "      <th>0</th>\n",
              "      <td>One major caveat today: Texas reported a backl...</td>\n",
              "      <td>0.451111</td>\n",
              "      <td>-0.143056</td>\n",
              "      <td>Negative</td>\n",
              "    </tr>\n",
              "    <tr>\n",
              "      <th>1</th>\n",
              "      <td>Our daily update is published. States reported...</td>\n",
              "      <td>0.000000</td>\n",
              "      <td>0.000000</td>\n",
              "      <td>Neutral</td>\n",
              "    </tr>\n",
              "    <tr>\n",
              "      <th>2</th>\n",
              "      <td>The South’s seven-day average for new cases pe...</td>\n",
              "      <td>0.372727</td>\n",
              "      <td>-0.003896</td>\n",
              "      <td>Negative</td>\n",
              "    </tr>\n",
              "    <tr>\n",
              "      <th>3</th>\n",
              "      <td>The number of people states report to be hospi...</td>\n",
              "      <td>0.400000</td>\n",
              "      <td>0.000000</td>\n",
              "      <td>Neutral</td>\n",
              "    </tr>\n",
              "    <tr>\n",
              "      <th>4</th>\n",
              "      <td>For those following the saga of Texas testing,...</td>\n",
              "      <td>0.273333</td>\n",
              "      <td>0.240000</td>\n",
              "      <td>Positive</td>\n",
              "    </tr>\n",
              "    <tr>\n",
              "      <th>...</th>\n",
              "      <td>...</td>\n",
              "      <td>...</td>\n",
              "      <td>...</td>\n",
              "      <td>...</td>\n",
              "    </tr>\n",
              "    <tr>\n",
              "      <th>95</th>\n",
              "      <td>We get into the broader dynamics of falling ca...</td>\n",
              "      <td>0.500000</td>\n",
              "      <td>0.000000</td>\n",
              "      <td>Neutral</td>\n",
              "    </tr>\n",
              "    <tr>\n",
              "      <th>96</th>\n",
              "      <td>But there is good news to report as well. The ...</td>\n",
              "      <td>0.500000</td>\n",
              "      <td>0.204167</td>\n",
              "      <td>Positive</td>\n",
              "    </tr>\n",
              "    <tr>\n",
              "      <th>97</th>\n",
              "      <td>California is now 3 in the United States for t...</td>\n",
              "      <td>0.471818</td>\n",
              "      <td>-0.025455</td>\n",
              "      <td>Negative</td>\n",
              "    </tr>\n",
              "    <tr>\n",
              "      <th>98</th>\n",
              "      <td>Texas recently changed the way it counts COVID...</td>\n",
              "      <td>0.125000</td>\n",
              "      <td>0.000000</td>\n",
              "      <td>Neutral</td>\n",
              "    </tr>\n",
              "    <tr>\n",
              "      <th>99</th>\n",
              "      <td>Our number of newly reported COVID-19 deaths i...</td>\n",
              "      <td>0.414773</td>\n",
              "      <td>0.005682</td>\n",
              "      <td>Positive</td>\n",
              "    </tr>\n",
              "  </tbody>\n",
              "</table>\n",
              "<p>100 rows × 4 columns</p>\n",
              "</div>"
            ],
            "text/plain": [
              "                                               Tweets  ...  Analysis\n",
              "0   One major caveat today: Texas reported a backl...  ...  Negative\n",
              "1   Our daily update is published. States reported...  ...   Neutral\n",
              "2   The South’s seven-day average for new cases pe...  ...  Negative\n",
              "3   The number of people states report to be hospi...  ...   Neutral\n",
              "4   For those following the saga of Texas testing,...  ...  Positive\n",
              "..                                                ...  ...       ...\n",
              "95  We get into the broader dynamics of falling ca...  ...   Neutral\n",
              "96  But there is good news to report as well. The ...  ...  Positive\n",
              "97  California is now 3 in the United States for t...  ...  Negative\n",
              "98  Texas recently changed the way it counts COVID...  ...   Neutral\n",
              "99  Our number of newly reported COVID-19 deaths i...  ...  Positive\n",
              "\n",
              "[100 rows x 4 columns]"
            ]
          },
          "metadata": {
            "tags": []
          },
          "execution_count": 23
        }
      ]
    },
    {
      "cell_type": "code",
      "metadata": {
        "id": "7L4TWHpMsjh7",
        "colab_type": "code",
        "colab": {
          "base_uri": "https://localhost:8080/",
          "height": 1000
        },
        "outputId": "8dd03334-ba9e-41c6-e123-19a4d3c777d2"
      },
      "source": [
        "# Printing positive tweets \n",
        "print('Printing positive tweets:\\n')\n",
        "j=1\n",
        "sortedDF = df.sort_values(by=['Polarity']) #Sort the tweets\n",
        "for i in range(0, sortedDF.shape[0] ):\n",
        "  if( sortedDF['Analysis'][i] == 'Positive'):\n",
        "    print(str(j) + ') '+ sortedDF['Tweets'][i])\n",
        "    print()\n",
        "    j= j+1"
      ],
      "execution_count": 24,
      "outputs": [
        {
          "output_type": "stream",
          "text": [
            "Printing positive tweets:\n",
            "\n",
            "1) For those following the saga of Texas testing, we’re seeing a lot more tests reported there. The state still hasn’t provided much detail about what happened over the last two weeks, and we look forward to learning more soon. \n",
            "\n",
            "2) Every day since March 30, the 7-day average for deaths in this country has been over 478, which was the low in our data on July 6. \n",
            "\n",
            "Through all of August, states are  reporting twice as many deaths as in early July. \n",
            "\n",
            "3) The return of higher testing numbers has been driven not just by the South and West but also the Northeast, which still has a much lower case load. (The 7-day average high is marked for each region.) \n",
            "\n",
            "4) Texas testing data seems to have rebounded from very low numbers last week. However, the state has not provided clear answers on what is happening in its reporting systems and positivity calculations. Read more here about what we can and cannot know \n",
            "\n",
            "\n",
            "\n",
            "5) Only a few states currently count tests in Testing Encounters, but we hope to see more soon. Read a detailed explanation of this metric and all the ways state count COVID-19 tests here \n",
            "\n",
            "\n",
            "\n",
            "6) We’ve added a new API field that reflects how some states are counting tests. “Testing Encounters”—the number of unique people tested per day—is a great way to count total tests and combines many strengths of counting in specimens or in unique people.\n",
            "\n",
            "7) This is the second week in a row that hospitalizations seem to have dropped. Our weekly update is now live with more details on week-over-week trends in the data. \n",
            "\n",
            "8) Testing numbers have begun to rise again in California. Texas seems to have begun solving their test issues, reporting over 124k tests today alone. Florida testing remains far from peak numbers in July. \n",
            "\n",
            "9) Our daily update is published. States reported 881k tests, 200k more than yesterday. Texas alone reported 124k tests. States also reported 52k cases and 1,163 deaths. \n",
            "\n",
            "10) Florida also had a major problem with a case backlog in Miami, which added 4,000 cases to the state's totals. \n",
            "\n",
            "\n",
            "\n",
            "11) California reported more than 6k backlogged cases. The state has now committed to assigning those cases to the correct date. We'll adjust our values as soon as the state makes the correct date figures available. This will shift many positive cases reported today to earlier dates.\n",
            "\n",
            "12) Texas is another major question mark. For reasons that are not quite clear yet, the state has been aggressively reducing the number of tests it had counted but not assigned to a county for the last 10 days since a system upgrade.\n",
            "\n",
            "13) The numbers we’re presenting here do not include the 220k tests that North Carolina pulled out of its numbers today because of a reporting error. To more accurately present the national trends, we set the state's new tests to 0 for today in these charts. \n",
            "\n",
            "14) In better news, New York has continued to test large numbers of people while cases have remained consistently, impressively low. \n",
            "\n",
            "15) While the data continues to show declines in current hospitalizations, it is worth noting the major questions about both state and Federal hospitalization data collection over the past few weeks. The trends look good, but... \n",
            "\n",
            "\n",
            "\n",
            "16) Our daily update is published. States reported 658k tests, 56k cases, and 1,485 deaths. The number of currently hospitalized COVID-19 patients continues to fall. \n",
            "\n",
            "There are many data issues, which we note in this thread. \n",
            "\n",
            "17) API users beware: there is a major caveat in the testing data today as North Carolina removed 220k tests from its cumulative numbers. \n",
            "\n",
            "18) We’d like to highlight Alaska for providing test turnaround times directly on their site. They even include a full time series and the most recent 14-day average. This is a great example of data transparency. \n",
            "\n",
            "\n",
            "\n",
            "19) Florida reported a record 277 deaths today. Given the reporting problems there over the last week, there may be more deaths from further in the past than on a standard day. \n",
            "\n",
            "20) California’s electronic lab reporting problem has been solved, according to the state website. As such, some portion of the 12,500 new cases reported today are backlogs from prior days. We expect this to continue for the next day or two.\n",
            "\n",
            "21) Testing remains down. Most of the decline in the 7-day average for tests completed is in the South. This kind of decline is not what we saw from Northeastern states as they emerged from their intense outbreaks in the Spring. \n",
            "\n",
            "22) Two weeks ago, we took a first look at the hospitalization data from HHS. \n",
            "\n",
            "Today, we’re revisiting that analysis. The upshot: we still can’t tell why the HHS data is so far off the data states report.\n",
            "\n",
            "\n",
            "\n",
            "23) Another note on TX: Due to a large backlog, the state did not report case counts for Nueces County today. \n",
            "\n",
            "24) Our daily update is published. States reported 716k tests and 42k cases, the lowest since early July. Some good news: Today's death count—426—is the lowest number for a Monday in 5 weeks. \n",
            "\n",
            "25) The 7-day average for cases seems likely to rise. There were storm-related drops in testing and cases, which showed up in the numbers from the 3th-6th. Those numbers will be replaced with regular reporting. We might be seeing the very beginning of that today in the South. \n",
            "\n",
            "26) It’s difficult to understand what’s happening with COVID-19 data right now, but we’re hoping to see better data soon as CA reporting problems are fixed, FL testing gets back up to speed, and hospital data improves nationally.\n",
            "\n",
            "27) Getting Texas antigen test results into public view has been a tangled process, and we’re very glad to see them. The  reported on the whole story last weekend: \n",
            "\n",
            "28) In better news, the great state of Texas is now reporting antigen tests. TX is doing it right, separating antigen results from PCR and reporting both positives and totals. You’ll see the numbers in our dataset as soon as we get antigens into the API. \n",
            "\n",
            "29) As a reminder, many states and territories don’t report—or don’t report fully—on the weekend.\n",
            "\n",
            "30) We were able to backfill all New Jersey deaths, redistributing the previous large June 25 spike of probable deaths to the correct days. Thank you to  and  for publishing the data we needed to improve the dataset. \n",
            "\n",
            "31) &gt;  has more on the HHS problems and we're in the midst of a deeper analysis that we'll publish next week. The bottom line is that the HHS data provided thus far is unreliable day-to-day. HHS needs to communicate what's happening. \n",
            "\n",
            "\n",
            "\n",
            "32) We recorded a considerable drop in hospitalizations today. The new HHS hospitalization dataset had been tracking much higher than our numbers; today, it experienced a precipitous and unrealistic decline. Short story: The data remains mushy since the CDC--&gt;HHS changeover. \n",
            "\n",
            "33) Georgia has consistently reported thousands of new cases each day—and has the fourth-largest number of hospitalized COVID-19 patients today, trailing only much larger states (CA, FL, TX). \n",
            "\n",
            "34) Our daily update is published. States reported 763k tests and 62k new cases. This is a considerable jump from mid-week, which is not typical and may reflect a return to more normal reporting after the east coast weather problems. The death toll was 1,333. \n",
            "\n",
            "35) Yesterday, we detailed testing falloffs in hotspot states, but it is much more widespread, even in places that have large outbreaks and are opening schools like Mississippi. \n",
            "\n",
            "36) Given the hiccups with daily numbers right now, it may be helpful to focus on the weekly trends that we’ve compiled here. \n",
            "\n",
            "37) The recent storm impaired Florida’s ability to do tests and therefore to confirm cases. Also, a large gap has opened between the total number of tests the state is reporting and the number of unique people who are being tested. We report the latter.\n",
            "\n",
            "38) There are widespread problems right now in the top-level data. In different ways, California and Florida have had trouble reporting complete data because of storms and IT problems. Because they are populous states with large outbreaks, that influences the national numbers.\n",
            "\n",
            "39) Some of the testing fall off is attributable to IT trouble in MA today and storm-related closures in FL. Still, the problem is broader. Weekly testing declined for the first time ever in our dataset. \n",
            "\n",
            "40) All clear, API and CSVs are fixed and ready to use.\n",
            "\n",
            "41) Fixing the original error seems to have caused more problems in the API and CSVs, which we're still working on, should be fixed soon. \n",
            "\n",
            "42) Our daily update is published. States reported 696k tests and 52k cases. This marks the first time since July 13 that states reported fewer than 700k tests. There were 1,176 COVID-19 deaths reported. \n",
            "\n",
            "43) Texas did not report yesterday, so their numbers are for 2 days. They’ve also changed their method of counting deaths to a more comprehensive, but slower method. Read more about the complex accounting of COVID-19 deaths in our most recent blog post: \n",
            "\n",
            "44) Florida has shut down many testing sites due to the storm, but here’s a post to help break down the differences between the Florida outbreak and what we saw in New York back in the spring. \n",
            "\n",
            "45) Our daily update is published. States reported 731k tests. An important caveat is that we’re missing some testing data from Florida due to the hurricane. There were 50k cases reported and 519 deaths. Keep in mind, it’s Monday so weekend delays will be filled out later this week. \n",
            "\n",
            "46) Stepping back: even with the number of new cases declining a little, the absolute number of infections still occurring in the country is far too high for people to accept as the new normal. \n",
            "\n",
            "47) Our update is published. Major caveat to the data: Texas did not report today. The other states reported 49k new cases and 726k new tests. There were 515 deaths reported, about the same level as last Sunday. For perspective, last Sunday TX reported 6k new cases and 153 deaths. \n",
            "\n",
            "48) New HHS guidance goes into effect today, requiring all testing sites to collect &amp; report more information. We hope it is shared with the states, and the states make it public. We do not expect disruptions, like those with hospitalization data, nor do we expect perfect compliance.\n",
            "\n",
            "49) And finally, deaths from the beginning to yesterday. \n",
            "\n",
            "(Along with your periodic reminder that New York State still is not reporting over 5000 probable deaths recorded by New York City and the CDC.) \n",
            "\n",
            "50) Here are some even broader views of the course of the pandemic from March 1 - July 31. \n",
            "\n",
            "First, tests. \n",
            "\n",
            "51) Taking a step back, the weekly picture describes a case surge that appears to be at—or just past—its peak. We also see testing at a plateau for the first time since mid-May. Deaths continue to rise. \n",
            "\n",
            "52) There are two important conclusions: \n",
            "\n",
            "1) The rolling 7-day average of reported deaths is a reliable, fast indicator of trends. \n",
            "\n",
            "2) Contrary to some assertions, our method is usually an undercount for a particular date in the hotspot states.\n",
            "\n",
            "53) There are multiple ways to visualize the deaths that states record. We publish deaths on the date a state reports them.  \n",
            "\n",
            "In our latest post, we looked at how our method compares to tracking deaths by date of death.   \n",
            "\n",
            "54) The 7-day rolling average of deaths for Texas and Florida has now surpassed some early hotspots like Michigan and Massachusetts. \n",
            "\n",
            "The trajectory looks more like harder hit states like New Jersey. \n",
            "\n",
            "55) One caveat on today’s total test number: Minnesota has updated their data recording, which resulted in a reduction of ~173k cumulative tests. We placed a zero in place of -173k for the daily chart above, so the real trend would be more apparent.\n",
            "\n",
            "56) But there is good news to report as well. The 7-day new-case average is declining in all four of our major hotspot states: AZ, CA, FL, and TX. \n",
            "\n",
            "57) Our number of newly reported COVID-19 deaths includes 322 deaths in Texas, as the state reported today. However, Texas also removed 200+ deaths from its cumulative totals due to an “automation error,” so the cumulative counts on  reflect this adjustment.\n",
            "\n"
          ],
          "name": "stdout"
        }
      ]
    },
    {
      "cell_type": "code",
      "metadata": {
        "id": "eLI0mfestI7n",
        "colab_type": "code",
        "colab": {
          "base_uri": "https://localhost:8080/",
          "height": 1000
        },
        "outputId": "e6d8f615-5661-42bd-e1e7-0bd05af26f6e"
      },
      "source": [
        "# Printing negative tweets  \n",
        "print('Printing negative tweets:\\n')\n",
        "j=1\n",
        "sortedDF = df.sort_values(by=['Polarity'],ascending=False) #Sort the tweets\n",
        "for i in range(0, sortedDF.shape[0] ):\n",
        "  if( sortedDF['Analysis'][i] == 'Negative'):\n",
        "    print(str(j) + ') '+sortedDF['Tweets'][i])\n",
        "    print()\n",
        "    j=j+1"
      ],
      "execution_count": 25,
      "outputs": [
        {
          "output_type": "stream",
          "text": [
            "Printing negative tweets:\n",
            "\n",
            "1) One major caveat today: Texas reported a backlog of 5k cases, which are included in today's numbers. Even for a Monday, which is subject to weekend lag, this is a very, very small number of cases.\n",
            "\n",
            "2) The South’s seven-day average for new cases per million people dropped to 205 from a July 22 peak of 315. In the West, the seven-day average is back up to 179 new cases per million people after a dip earlier this month related in part to CA’s reporting system problems. \n",
            "\n",
            "3) The seven-day average of COVID-19 deaths has remained over 1,000 people per day since July 30. \n",
            "\n",
            "4) Washington has acknowledged their issues with reporting negative tests. Hopefully we see those numbers return to normal in the near future. \n",
            "\n",
            "\n",
            "\n",
            "5) While data issues continue to plague various states, the regional testing picture shows that the 7-day daily testing average appears to have peaked in the South on July 27. \n",
            "\n",
            "6) Our daily update is published. States reported 739k tests and 56k cases, as well as 1,326 deaths. This week, we hope to see data that is less marred by outages and reporting problems. \n",
            "\n",
            "7) CA is not the only state struggling with reporting issues: Washington, for instance, has not reported negative test numbers since August 1st. \n",
            "\n",
            "8) Finally, just a reminder that the data over the last week has been influenced by a wide array of technical hiccups, storm disruptions, and other confounding factors.\n",
            "\n",
            "9) We’ve mentioned data and testing reporting problems in CA and FL this week, and should also flag that WA is having IT trouble that has prevented the state from reporting negative results since 8/1 and is lowering hosp. numbers.  \n",
            "\n",
            "10) Our daily update is published. States reported 665k tests and 54k cases. 1,088 COVID-19 deaths were reported today, about 100 down from last Saturday. \n",
            "\n",
            "11) 17 states reported at least 1,000 cases today. It’s possible that this reflects some storm-induced reporting backlog. \n",
            "\n",
            "12) The seven-day average of reported COVID-19 deaths has dropped slightly. It is difficult to know how long the trend will last. \n",
            "\n",
            "13) Our daily update is published. States reported 749k tests, 55k cases, and 1,253 deaths. The numbers remain heavily caveated by different kinds of reporting problems across the country. \n",
            "\n",
            "14) California’s electronic reporting system has broken down, according to public health and media reports. For example, this is the note Santa Clara County posted.\n",
            "\n",
            " \n",
            "\n",
            "15) Data on current hospitalizations remains iffy. Today we saw hospitalization numbers in ID and NJ drop by ~50%, which seems unlikely to reflect reality. Some states with rising cases have dropping hosp. figures.\n",
            "\n",
            "Last week's post is likely still relevant: \n",
            "\n",
            "16) Over two-thirds of national COVID-19 deaths were reported in the South today. The Northeast and Midwest each accounted for less than 10% of reported deaths. \n",
            "\n",
            "17) Even with the uncertainty of testing in Florida and elsewhere, cases nationwide have trended down for the past week. Deaths, however, continue to climb towards a 7-day average of 1,100. \n",
            "\n",
            "18) Testing sites in parts of Florida remain closed due to Hurricane Isaias, which is affecting the national testing figure.\n",
            " \n",
            " \n",
            "\n",
            "19) This is the 3rd day in a row states have reported fewer than 735k tests. The 7-day average has fallen for 5 days now. \n",
            "\n",
            "20) Our daily update is published. States reported relatively low numbers of tests (713k) and cases (60k). The 7-day average for deaths is now 1,076. \n",
            "\n",
            "21) It’s the last day of July, which has seen a staggering resurgence of COVID-19 in America. It’s the worst month ever for cases and the average number of hospitalized people. And unsurprisingly, after declining since April, deaths rose this month. \n",
            "\n",
            "22) Our daily update is published. States reported 889k tests today, the second-highest total ever, along with 68k cases.\n",
            "\n",
            "States reported 1308 deaths today, as the 7-day average continues to rise. \n",
            "\n",
            "23) California is now 3 in the United States for total COVID-19 deaths, behind New York and New Jersey. We hope that declining case counts in CA will be reflected in falling deaths within the next 2-3 weeks. \n",
            "\n"
          ],
          "name": "stdout"
        }
      ]
    },
    {
      "cell_type": "code",
      "metadata": {
        "id": "wwUHq-G1tQWZ",
        "colab_type": "code",
        "colab": {
          "base_uri": "https://localhost:8080/",
          "height": 405
        },
        "outputId": "ff7352af-f98b-4f30-bd70-f745f930ed8c"
      },
      "source": [
        "# Plotting \n",
        "plt.figure(figsize=(8,6)) \n",
        "for i in range(0, df.shape[0]):\n",
        "  plt.scatter(df[\"Polarity\"][i], df[\"Subjectivity\"][i], color='Blue') \n",
        "# plt.scatter(x,y,color)   \n",
        "plt.title('Sentiment Analysis') \n",
        "plt.xlabel('Polarity') \n",
        "plt.ylabel('Subjectivity') \n",
        "plt.show()"
      ],
      "execution_count": 26,
      "outputs": [
        {
          "output_type": "display_data",
          "data": {
            "image/png": "[encoded data removed]",
            "text/plain": [
              "<Figure size 576x432 with 1 Axes>"
            ]
          },
          "metadata": {
            "tags": [],
            "needs_background": "light"
          }
        }
      ]
    },
    {
      "cell_type": "code",
      "metadata": {
        "id": "Qfyhsq9FtV60",
        "colab_type": "code",
        "colab": {
          "base_uri": "https://localhost:8080/",
          "height": 34
        },
        "outputId": "a796c05c-bb3f-4f02-e544-e9d12e973694"
      },
      "source": [
        "# Print the percentage of positive tweets\n",
        "ptweets = df[df.Analysis == 'Positive']\n",
        "ptweets = ptweets['Tweets']\n",
        "ptweets\n",
        "\n",
        "round( (ptweets.shape[0] / df.shape[0]) * 100 , 1)"
      ],
      "execution_count": 27,
      "outputs": [
        {
          "output_type": "execute_result",
          "data": {
            "text/plain": [
              "57.0"
            ]
          },
          "metadata": {
            "tags": []
          },
          "execution_count": 27
        }
      ]
    },
    {
      "cell_type": "code",
      "metadata": {
        "id": "CgUTkUT8teLk",
        "colab_type": "code",
        "colab": {
          "base_uri": "https://localhost:8080/",
          "height": 34
        },
        "outputId": "f08d3623-9362-461d-ac8b-17429663f25e"
      },
      "source": [
        "# Print the percentage of negative tweets\n",
        "ntweets = df[df.Analysis == 'Negative']\n",
        "ntweets = ntweets['Tweets']\n",
        "ntweets\n",
        "\n",
        "round( (ntweets.shape[0] / df.shape[0]) * 100, 1)"
      ],
      "execution_count": 28,
      "outputs": [
        {
          "output_type": "execute_result",
          "data": {
            "text/plain": [
              "23.0"
            ]
          },
          "metadata": {
            "tags": []
          },
          "execution_count": 28
        }
      ]
    },
    {
      "cell_type": "code",
      "metadata": {
        "id": "YaeZFRaAti8z",
        "colab_type": "code",
        "colab": {
          "base_uri": "https://localhost:8080/",
          "height": 85
        },
        "outputId": "df9c985f-5ab9-4a73-ec7b-73a18838c6ea"
      },
      "source": [
        "# Show the value counts\n",
        "df['Analysis'].value_counts()\n"
      ],
      "execution_count": 29,
      "outputs": [
        {
          "output_type": "execute_result",
          "data": {
            "text/plain": [
              "Positive    57\n",
              "Negative    23\n",
              "Neutral     20\n",
              "Name: Analysis, dtype: int64"
            ]
          },
          "metadata": {
            "tags": []
          },
          "execution_count": 29
        }
      ]
    },
    {
      "cell_type": "code",
      "metadata": {
        "id": "5oLIl6AJtoTX",
        "colab_type": "code",
        "colab": {
          "base_uri": "https://localhost:8080/",
          "height": 331
        },
        "outputId": "3a81d637-cf05-44df-ed8a-bd753e96b03d"
      },
      "source": [
        "# Plotting and visualizing the counts\n",
        "plt.title('Sentiment Analysis')\n",
        "plt.xlabel('Sentiment')\n",
        "plt.ylabel('Counts')\n",
        "df['Analysis'].value_counts().plot(kind = 'bar')\n",
        "plt.show()"
      ],
      "execution_count": 30,
      "outputs": [
        {
          "output_type": "display_data",
          "data": {
            "image/png": "[encoded data removed]",
            "text/plain": [
              "<Figure size 432x288 with 1 Axes>"
            ]
          },
          "metadata": {
            "tags": [],
            "needs_background": "light"
          }
        }
      ]
    },
    {
      "cell_type": "code",
      "metadata": {
        "id": "nUYRc3O1tuL0",
        "colab_type": "code",
        "colab": {}
      },
      "source": [
        ""
      ],
      "execution_count": null,
      "outputs": []
    }
  ]
}