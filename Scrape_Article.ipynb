{
  "nbformat": 4,
  "nbformat_minor": 0,
  "metadata": {
    "colab": {
      "name": "Scrape_Article.ipynb",
      "provenance": [],
      "authorship_tag": "ABX9TyPCbziah4ZORyNhuMyTjNf9",
      "include_colab_link": true
    },
    "kernelspec": {
      "name": "python3",
      "display_name": "Python 3"
    }
  },
  "cells": [
    {
      "cell_type": "markdown",
      "metadata": {
        "id": "view-in-github",
        "colab_type": "text"
      },
      "source": [
        "<a href=\"https://colab.research.google.com/github/Vicks-2019/Stock-Market-Analysis-using-Python-ML/blob/master/Scrape_Article.ipynb\" target=\"_parent\"><img src=\"https://colab.research.google.com/assets/colab-badge.svg\" alt=\"Open In Colab\"/></a>"
      ]
    },
    {
      "cell_type": "code",
      "metadata": {
        "id": "s1XRjqh8I8fY",
        "colab_type": "code",
        "colab": {}
      },
      "source": [
        "# Scrape and summarize an article\n",
        "import nltk\n",
        "from newspaper import Article"
      ],
      "execution_count": 3,
      "outputs": []
    },
    {
      "cell_type": "code",
      "metadata": {
        "id": "DRYNrfn8JWKn",
        "colab_type": "code",
        "colab": {}
      },
      "source": [
        "# get the article url\n",
        "url = 'https://www.lyrarc.com/articles/60985-elon-musk-s-payday-could-cost-tesla-shareholders-dearly?tag_search=all-topics'\n",
        "article = Article(url)"
      ],
      "execution_count": 14,
      "outputs": []
    },
    {
      "cell_type": "code",
      "metadata": {
        "id": "HYFbpcLzJ6lk",
        "colab_type": "code",
        "colab": {
          "base_uri": "https://localhost:8080/",
          "height": 51
        },
        "outputId": "e2279242-ebbf-4003-8d00-8486e486fea3"
      },
      "source": [
        "# preprocessing\n",
        "article.download()\n",
        "article.parse()\n",
        "nltk.download('punkt')\n",
        "article.nlp()"
      ],
      "execution_count": 15,
      "outputs": [
        {
          "output_type": "stream",
          "text": [
            "[nltk_data] Downloading package punkt to /root/nltk_data...\n",
            "[nltk_data]   Package punkt is already up-to-date!\n"
          ],
          "name": "stdout"
        }
      ]
    },
    {
      "cell_type": "code",
      "metadata": {
        "id": "Qd_aerYmKUje",
        "colab_type": "code",
        "colab": {
          "base_uri": "https://localhost:8080/",
          "height": 34
        },
        "outputId": "4250b231-841f-42c5-91bb-c3e16ce01b22"
      },
      "source": [
        "# Get the Authors\n",
        "print(article.authors)"
      ],
      "execution_count": 16,
      "outputs": [
        {
          "output_type": "stream",
          "text": [
            "['Charley Grant', 'William Boston']\n"
          ],
          "name": "stdout"
        }
      ]
    },
    {
      "cell_type": "code",
      "metadata": {
        "id": "RxbjP7BZKgL0",
        "colab_type": "code",
        "colab": {
          "base_uri": "https://localhost:8080/",
          "height": 34
        },
        "outputId": "d92fe381-0fe3-4f5b-9d23-ff308739e5c1"
      },
      "source": [
        "#Get the publish date\n",
        "print(article.publish_date)"
      ],
      "execution_count": 17,
      "outputs": [
        {
          "output_type": "stream",
          "text": [
            "None\n"
          ],
          "name": "stdout"
        }
      ]
    },
    {
      "cell_type": "code",
      "metadata": {
        "id": "eLydw4egKtEr",
        "colab_type": "code",
        "colab": {
          "base_uri": "https://localhost:8080/",
          "height": 34
        },
        "outputId": "3bed27f7-050e-4210-8183-fd489730ca5a"
      },
      "source": [
        "# Get the image\n",
        "print(article.top_image)"
      ],
      "execution_count": 18,
      "outputs": [
        {
          "output_type": "stream",
          "text": [
            "https://images.wsj.net/im-229532/social\n"
          ],
          "name": "stdout"
        }
      ]
    },
    {
      "cell_type": "code",
      "metadata": {
        "id": "zYxlVCErK-U2",
        "colab_type": "code",
        "colab": {
          "base_uri": "https://localhost:8080/",
          "height": 122
        },
        "outputId": "e655501c-ef32-4697-f2a4-f78cb31b6762"
      },
      "source": [
        "#Get the article text\n",
        "print(article.text)"
      ],
      "execution_count": 19,
      "outputs": [
        {
          "output_type": "stream",
          "text": [
            "LyrArc Article Gist\n",
            "\n",
            "For the last 4 quarters Tesla has average profit of about $70 million each quarter yet in May Tesla awarded shares worth $800 million in May to Mr. Elon Musk, CEO, as part of the pay package, says this report in the WSJ. These stock options need to be expensed as stock based compensation expense. These expenses put Tesla's meager profits based on GAAP in jeopardy says the WSJ. A third quarter net loss of just $226 million would put Tesla in a loss situation for the past 4 quarters. This for a company that is attracting massive amounts of capital. Is this a misallocation of capital by capital markets as structured today when there are pressing needs for infrastructure, health and education from the investment behaviour that prevailed for decades before the pandemic? Are there questions about pay packages that are thousands of times the pay of average manufacturing workers at the same company consistent with the kind of society we once were and now want to build after the pandemic? The average pay at Tesla is between $70,000 to $94,000 a year for workers making the CEO pay package about a thousand times that of the average worker. At the height of the crisis at VW it was about 170 times the average worker in 2015 in Germany.\n",
            "\n",
            "\n"
          ],
          "name": "stdout"
        }
      ]
    },
    {
      "cell_type": "code",
      "metadata": {
        "id": "j7mKEPG_LUib",
        "colab_type": "code",
        "colab": {
          "base_uri": "https://localhost:8080/",
          "height": 122
        },
        "outputId": "bbc67725-7856-4113-f684-ddc38b189314"
      },
      "source": [
        "# Get the article summary\n",
        "print(article.summary)"
      ],
      "execution_count": 20,
      "outputs": [
        {
          "output_type": "stream",
          "text": [
            "These stock options need to be expensed as stock based compensation expense.\n",
            "A third quarter net loss of just $226 million would put Tesla in a loss situation for the past 4 quarters.\n",
            "Is this a misallocation of capital by capital markets as structured today when there are pressing needs for infrastructure, health and education from the investment behaviour that prevailed for decades before the pandemic?\n",
            "The average pay at Tesla is between $70,000 to $94,000 a year for workers making the CEO pay package about a thousand times that of the average worker.\n",
            "At the height of the crisis at VW it was about 170 times the average worker in 2015 in Germany.\n"
          ],
          "name": "stdout"
        }
      ]
    },
    {
      "cell_type": "code",
      "metadata": {
        "id": "utENdH8bLfur",
        "colab_type": "code",
        "colab": {}
      },
      "source": [
        ""
      ],
      "execution_count": null,
      "outputs": []
    }
  ]
}